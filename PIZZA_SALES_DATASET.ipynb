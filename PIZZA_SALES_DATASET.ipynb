{
  "nbformat": 4,
  "nbformat_minor": 0,
  "metadata": {
    "colab": {
      "provenance": [],
      "authorship_tag": "ABX9TyO1Kf/g4SzrPSRICt7QiWpp",
      "include_colab_link": true
    },
    "kernelspec": {
      "name": "python3",
      "display_name": "Python 3"
    },
    "language_info": {
      "name": "python"
    }
  },
  "cells": [
    {
      "cell_type": "markdown",
      "metadata": {
        "id": "view-in-github",
        "colab_type": "text"
      },
      "source": [
        "<a href=\"https://colab.research.google.com/github/afrilazahraaa/Datamining/blob/main/PIZZA_SALES_DATASET.ipynb\" target=\"_parent\"><img src=\"https://colab.research.google.com/assets/colab-badge.svg\" alt=\"Open In Colab\"/></a>"
      ]
    },
    {
      "cell_type": "markdown",
      "source": [
        "#PIZZA SALES DATASET"
      ],
      "metadata": {
        "id": "UZ-P51lFKpkp"
      }
    },
    {
      "cell_type": "markdown",
      "source": [
        "##Business Understanding"
      ],
      "metadata": {
        "id": "nhotCpM6MjRi"
      }
    },
    {
      "cell_type": "markdown",
      "source": [
        "**Business Objective**\n",
        "\n",
        "Tujuan bisnis dari dataset ini adalah Menganalisis data penjualan pizza untuk meningkatkan penjualan dan keuntungan. Mengidentifikasi menu dan promosi yang paling efektif untuk meningkatkan penjualan. Memahami perilaku konsumen dan faktor-faktor yang mempengaruhi pembelian pizza.\n",
        "\n",
        "\n",
        "**Assess Situation**\n",
        "\n",
        "Situasi bisnis yang mendasari analisis ini adalah Perusahaan memiliki dataset penjualan pizza selama 2 tahun terakhir. Data berisi detail pemesanan seperti menu yang dipesan, waktu pemesanan, lokasi, demografi pelanggan, dan sebagainya. Penjualan pizza menunjukkan penurunan dalam beberapa bulan terakhir. Perusahaan ingin memahami faktor-faktor yang mempengaruhi penjualan pizza.\n",
        "\n",
        "\n",
        "**Data Mining Goals**\n",
        "\n",
        "Tujuan data mining pada dataset ini adalah untuk Melakukan segmentasi pelanggan berdasarkan pola pembelian dan demografi. Mengidentifikasi menu dan promosi paling laris di setiap segmen pelanggan. Membangun model prediksi untuk meramalkan penjualan di masa depan. Menemukan insight tentang perilaku dan preferensi pelanggan pizza.\n",
        "\n",
        "\n",
        "**Project Plan**\n",
        "\n",
        "Rencana Proyek untuk menganalisis dataset ini dimulai dengan Melakukan persiapan data, cleaning, transformasi (2 minggu). Analisis deskriptif untuk memahami data (1 minggu). Segmentasi pelanggan dan analisis menu laris (2 minggu). Membangun model prediksi penjualan pizza (3 minggu). Memberikan rekomendasi menu dan promosi untuk meningkatkan penjualan (2 minggu)."
      ],
      "metadata": {
        "id": "1k13WkWjLUUx"
      }
    },
    {
      "cell_type": "markdown",
      "source": [],
      "metadata": {
        "id": "hLGvF6SAQTPX"
      }
    }
  ]
}